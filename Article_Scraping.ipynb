{
  "cells": [
    {
      "cell_type": "markdown",
      "metadata": {
        "id": "view-in-github",
        "colab_type": "text"
      },
      "source": [
        "<a href=\"https://colab.research.google.com/github/ARRamanti/Python/blob/main/Article_Scraping.ipynb\" target=\"_parent\"><img src=\"https://colab.research.google.com/assets/colab-badge.svg\" alt=\"Open In Colab\"/></a>"
      ]
    },
    {
      "cell_type": "code",
      "execution_count": 1,
      "metadata": {
        "colab": {
          "base_uri": "https://localhost:8080/"
        },
        "id": "bfe9INyfMUHS",
        "outputId": "5cb82cdf-2180-41ed-8385-e9330810e0f9"
      },
      "outputs": [
        {
          "output_type": "stream",
          "name": "stdout",
          "text": [
            "Requirement already satisfied: nltk in /usr/local/lib/python3.7/dist-packages (3.2.5)\n",
            "Requirement already satisfied: six in /usr/local/lib/python3.7/dist-packages (from nltk) (1.15.0)\n"
          ]
        }
      ],
      "source": [
        "pip install nltk"
      ]
    },
    {
      "cell_type": "code",
      "execution_count": 2,
      "metadata": {
        "colab": {
          "base_uri": "https://localhost:8080/"
        },
        "id": "LVmJrkx0NzRj",
        "outputId": "04d4306a-aa86-4555-fc48-1a6153aa0b42"
      },
      "outputs": [
        {
          "output_type": "stream",
          "name": "stdout",
          "text": [
            "Collecting newspaper3k\n",
            "  Downloading newspaper3k-0.2.8-py3-none-any.whl (211 kB)\n",
            "\u001b[?25l\r\u001b[K     |█▌                              | 10 kB 17.4 MB/s eta 0:00:01\r\u001b[K     |███                             | 20 kB 10.7 MB/s eta 0:00:01\r\u001b[K     |████▋                           | 30 kB 7.0 MB/s eta 0:00:01\r\u001b[K     |██████▏                         | 40 kB 4.5 MB/s eta 0:00:01\r\u001b[K     |███████▊                        | 51 kB 4.9 MB/s eta 0:00:01\r\u001b[K     |█████████▎                      | 61 kB 5.4 MB/s eta 0:00:01\r\u001b[K     |██████████▉                     | 71 kB 5.1 MB/s eta 0:00:01\r\u001b[K     |████████████▍                   | 81 kB 5.7 MB/s eta 0:00:01\r\u001b[K     |██████████████                  | 92 kB 4.7 MB/s eta 0:00:01\r\u001b[K     |███████████████▌                | 102 kB 5.0 MB/s eta 0:00:01\r\u001b[K     |█████████████████               | 112 kB 5.0 MB/s eta 0:00:01\r\u001b[K     |██████████████████▋             | 122 kB 5.0 MB/s eta 0:00:01\r\u001b[K     |████████████████████▏           | 133 kB 5.0 MB/s eta 0:00:01\r\u001b[K     |█████████████████████▊          | 143 kB 5.0 MB/s eta 0:00:01\r\u001b[K     |███████████████████████▎        | 153 kB 5.0 MB/s eta 0:00:01\r\u001b[K     |████████████████████████▉       | 163 kB 5.0 MB/s eta 0:00:01\r\u001b[K     |██████████████████████████▍     | 174 kB 5.0 MB/s eta 0:00:01\r\u001b[K     |████████████████████████████    | 184 kB 5.0 MB/s eta 0:00:01\r\u001b[K     |█████████████████████████████▌  | 194 kB 5.0 MB/s eta 0:00:01\r\u001b[K     |███████████████████████████████ | 204 kB 5.0 MB/s eta 0:00:01\r\u001b[K     |████████████████████████████████| 211 kB 5.0 MB/s \n",
            "\u001b[?25hRequirement already satisfied: Pillow>=3.3.0 in /usr/local/lib/python3.7/dist-packages (from newspaper3k) (7.1.2)\n",
            "Requirement already satisfied: lxml>=3.6.0 in /usr/local/lib/python3.7/dist-packages (from newspaper3k) (4.2.6)\n",
            "Collecting cssselect>=0.9.2\n",
            "  Downloading cssselect-1.1.0-py2.py3-none-any.whl (16 kB)\n",
            "Requirement already satisfied: nltk>=3.2.1 in /usr/local/lib/python3.7/dist-packages (from newspaper3k) (3.2.5)\n",
            "Requirement already satisfied: beautifulsoup4>=4.4.1 in /usr/local/lib/python3.7/dist-packages (from newspaper3k) (4.6.3)\n",
            "Requirement already satisfied: requests>=2.10.0 in /usr/local/lib/python3.7/dist-packages (from newspaper3k) (2.23.0)\n",
            "Requirement already satisfied: python-dateutil>=2.5.3 in /usr/local/lib/python3.7/dist-packages (from newspaper3k) (2.8.2)\n",
            "Collecting tldextract>=2.0.1\n",
            "  Downloading tldextract-3.1.2-py2.py3-none-any.whl (87 kB)\n",
            "\u001b[K     |████████████████████████████████| 87 kB 5.7 MB/s \n",
            "\u001b[?25hRequirement already satisfied: PyYAML>=3.11 in /usr/local/lib/python3.7/dist-packages (from newspaper3k) (3.13)\n",
            "Collecting jieba3k>=0.35.1\n",
            "  Downloading jieba3k-0.35.1.zip (7.4 MB)\n",
            "\u001b[K     |████████████████████████████████| 7.4 MB 22.5 MB/s \n",
            "\u001b[?25hCollecting tinysegmenter==0.3\n",
            "  Downloading tinysegmenter-0.3.tar.gz (16 kB)\n",
            "Collecting feedfinder2>=0.0.4\n",
            "  Downloading feedfinder2-0.0.4.tar.gz (3.3 kB)\n",
            "Collecting feedparser>=5.2.1\n",
            "  Downloading feedparser-6.0.8-py3-none-any.whl (81 kB)\n",
            "\u001b[K     |████████████████████████████████| 81 kB 7.5 MB/s \n",
            "\u001b[?25hRequirement already satisfied: six in /usr/local/lib/python3.7/dist-packages (from feedfinder2>=0.0.4->newspaper3k) (1.15.0)\n",
            "Collecting sgmllib3k\n",
            "  Downloading sgmllib3k-1.0.0.tar.gz (5.8 kB)\n",
            "Requirement already satisfied: idna<3,>=2.5 in /usr/local/lib/python3.7/dist-packages (from requests>=2.10.0->newspaper3k) (2.10)\n",
            "Requirement already satisfied: chardet<4,>=3.0.2 in /usr/local/lib/python3.7/dist-packages (from requests>=2.10.0->newspaper3k) (3.0.4)\n",
            "Requirement already satisfied: urllib3!=1.25.0,!=1.25.1,<1.26,>=1.21.1 in /usr/local/lib/python3.7/dist-packages (from requests>=2.10.0->newspaper3k) (1.24.3)\n",
            "Requirement already satisfied: certifi>=2017.4.17 in /usr/local/lib/python3.7/dist-packages (from requests>=2.10.0->newspaper3k) (2021.10.8)\n",
            "Requirement already satisfied: filelock>=3.0.8 in /usr/local/lib/python3.7/dist-packages (from tldextract>=2.0.1->newspaper3k) (3.4.0)\n",
            "Collecting requests-file>=1.4\n",
            "  Downloading requests_file-1.5.1-py2.py3-none-any.whl (3.7 kB)\n",
            "Building wheels for collected packages: tinysegmenter, feedfinder2, jieba3k, sgmllib3k\n",
            "  Building wheel for tinysegmenter (setup.py) ... \u001b[?25l\u001b[?25hdone\n",
            "  Created wheel for tinysegmenter: filename=tinysegmenter-0.3-py3-none-any.whl size=13552 sha256=51d97b02a0415710573347487b457028438d19ba93ecaae89bb91a01afaab6c5\n",
            "  Stored in directory: /root/.cache/pip/wheels/df/67/41/faca10fa501ca010be41b49d40360c2959e1c4f09bcbfa37fa\n",
            "  Building wheel for feedfinder2 (setup.py) ... \u001b[?25l\u001b[?25hdone\n",
            "  Created wheel for feedfinder2: filename=feedfinder2-0.0.4-py3-none-any.whl size=3356 sha256=b8844fd1f24e4fbcbc882b7c10b56e44c1cac284c670a714e0d93f7c4dd833de\n",
            "  Stored in directory: /root/.cache/pip/wheels/7f/d4/8f/6e2ca54744c9d7292d88ddb8d42876bcdab5e6d84a21c10346\n",
            "  Building wheel for jieba3k (setup.py) ... \u001b[?25l\u001b[?25hdone\n",
            "  Created wheel for jieba3k: filename=jieba3k-0.35.1-py3-none-any.whl size=7398405 sha256=9267462721f64aaa685f98821635a56a140c5c9145bf2d22c1b6731da73bf486\n",
            "  Stored in directory: /root/.cache/pip/wheels/4c/91/46/3c208287b726df325a5979574324878b679116e4baae1af3c3\n",
            "  Building wheel for sgmllib3k (setup.py) ... \u001b[?25l\u001b[?25hdone\n",
            "  Created wheel for sgmllib3k: filename=sgmllib3k-1.0.0-py3-none-any.whl size=6065 sha256=339c1e49a360c705bd1b321f2b2a6f2adcb8a965bf146e95fbe587098c494868\n",
            "  Stored in directory: /root/.cache/pip/wheels/73/ad/a4/0dff4a6ef231fc0dfa12ffbac2a36cebfdddfe059f50e019aa\n",
            "Successfully built tinysegmenter feedfinder2 jieba3k sgmllib3k\n",
            "Installing collected packages: sgmllib3k, requests-file, tldextract, tinysegmenter, jieba3k, feedparser, feedfinder2, cssselect, newspaper3k\n",
            "Successfully installed cssselect-1.1.0 feedfinder2-0.0.4 feedparser-6.0.8 jieba3k-0.35.1 newspaper3k-0.2.8 requests-file-1.5.1 sgmllib3k-1.0.0 tinysegmenter-0.3 tldextract-3.1.2\n"
          ]
        }
      ],
      "source": [
        "pip install newspaper3k"
      ]
    },
    {
      "cell_type": "code",
      "execution_count": 3,
      "metadata": {
        "id": "eJhNvBXfN96R"
      },
      "outputs": [],
      "source": [
        "import nltk\n",
        "from newspaper import Article"
      ]
    },
    {
      "cell_type": "code",
      "execution_count": 10,
      "metadata": {
        "id": "-qWs_7ZjPAo-"
      },
      "outputs": [],
      "source": [
        "url = 'https://mediaindonesia.com/nusantara/461245/desa-sakerta-timur-bebenah-jadikan-desa-wisata'\n",
        "article = Article(url)"
      ]
    },
    {
      "cell_type": "code",
      "source": [
        "article.download()\n",
        "article.parse()\n",
        "nltk.download('punkt')\n",
        "article.nlp()"
      ],
      "metadata": {
        "colab": {
          "base_uri": "https://localhost:8080/"
        },
        "id": "pcDmkMJIsXuT",
        "outputId": "e8224ba9-3e7d-421a-ccfe-7a456358442f"
      },
      "execution_count": 11,
      "outputs": [
        {
          "output_type": "stream",
          "name": "stdout",
          "text": [
            "[nltk_data] Downloading package punkt to /root/nltk_data...\n",
            "[nltk_data]   Package punkt is already up-to-date!\n"
          ]
        }
      ]
    },
    {
      "cell_type": "code",
      "source": [
        "article.authors"
      ],
      "metadata": {
        "colab": {
          "base_uri": "https://localhost:8080/"
        },
        "id": "cQtjisWfs1Fo",
        "outputId": "3d13c3e7-5f70-43d9-e567-c8c06a84e5d5"
      },
      "execution_count": 12,
      "outputs": [
        {
          "output_type": "execute_result",
          "data": {
            "text/plain": [
              "['Mediaindonesia.Com Developer']"
            ]
          },
          "metadata": {},
          "execution_count": 12
        }
      ]
    },
    {
      "cell_type": "code",
      "source": [
        "article.publish_date"
      ],
      "metadata": {
        "colab": {
          "base_uri": "https://localhost:8080/"
        },
        "id": "KMCHpTbSc5P6",
        "outputId": "50d88431-f3b0-4c24-d1c6-90c82c75e98f"
      },
      "execution_count": 13,
      "outputs": [
        {
          "output_type": "execute_result",
          "data": {
            "text/plain": [
              "datetime.datetime(2021, 12, 30, 13, 20, 40, tzinfo=tzoffset(None, 25200))"
            ]
          },
          "metadata": {},
          "execution_count": 13
        }
      ]
    },
    {
      "cell_type": "code",
      "source": [
        "article.top_image"
      ],
      "metadata": {
        "colab": {
          "base_uri": "https://localhost:8080/",
          "height": 36
        },
        "id": "rcK4nJvZdHEs",
        "outputId": "91782410-7865-4edb-a642-7b1ecf9ea0d0"
      },
      "execution_count": 14,
      "outputs": [
        {
          "output_type": "execute_result",
          "data": {
            "application/vnd.google.colaboratory.intrinsic+json": {
              "type": "string"
            },
            "text/plain": [
              "'https://disk.mediaindonesia.com/thumbs/590x400/news/2021/12/a58602de368c31b8e29720586b69992f.jpg'"
            ]
          },
          "metadata": {},
          "execution_count": 14
        }
      ]
    },
    {
      "cell_type": "code",
      "source": [
        "print(article.text)"
      ],
      "metadata": {
        "colab": {
          "base_uri": "https://localhost:8080/"
        },
        "id": "xnmSx519dT5Z",
        "outputId": "9fe992b4-9d7d-4d69-8913-81b894a82341"
      },
      "execution_count": 15,
      "outputs": [
        {
          "output_type": "stream",
          "name": "stdout",
          "text": [
            "DESA Sakerta Timur, Kecamatan Darma, Kabupaten Kuningan, Jawa Barat bersiap menjadi desa wisata. Penduduknya juga berkomitmen untuk memajukan desa mereka dari kepariwisataan.\n",
            "\n",
            "Kepala Desa Sakerta Timur, Cucu Sudrajat, menjelaskan warga desanya bersiap untuk menjadi desa wisata di Kabupaten Kuningan. \"Sebelumnya sudah ada komitmen dan deklarasi dari seluruh warga desa untuk menjadikan desa kami sebagai desa wisata pada 2017 lalu,\" tutur Cucu, Kamis (30/12).\n",
            "\n",
            "Desa dengan 700 KK dan sekitar 2.700 penduduk tersebut sebagian besar berprofesi sebagai pedagang dan petani. Bahkan warga Desa Sakerta sampai harus keluar kota untuk berdagang dan mencari penghidupan.\n",
            "\n",
            "Seiring dengan komitmen bersama untuk menjadikan desa mereka sebagai desa wisata, seluruh potensi desa akan digerakkan. \"Inti dari desa wisata itu bagaimana memberdayakan masyarakat desa,\" tutur Cucu.\n",
            "\n",
            "Kini warga Desa Sakerta sudah memfungsikan rumah-rumah warga sebagai tempat penginapan wisatawan. Potensi alam juga dimanfaatkan, diantaranya dengan membuat welcome drink dari gula aren. Di desa tersebut menurut Cucu terdapat cukup banyak petani gula aren yang dapat dimanfaatkan untuk kegiatan wisata.\n",
            "\n",
            "Terletak dekat dengan Waduk Darma membuat Desa Sakerta Timur juga kaya dengan kekayaan alam. Kultur masyarakat yang masih kental dengan budaya juga menjadi daya tarik desa tersebut. \"Kami masih rutin menggelar budaya babarid, yang merupakan penghormatan terhadap leluhur,\" tutur Cucu.\n",
            "\n",
            "Di Desa Sakerta juga memiliki perkebunan kopi. Bahkan kopi liberaka yang dihasilkan menjadi ciri khas kopi di daerah tersebut. \"Wisata kopi juga bisa dilakukan di desa kami,\" tutur Cucu.\n",
            "\n",
            "Niat serius warga juga didukung oleh pemerintah. Kucuran dana untuk perbaikan infrastruktur juga telah diterima warga. Diantaranya sebesar Rp550 juta pada 2018 dari Dana alokasi Khusus (DAK), sebesar Rp370 juta pada 2019 dan dari Pemerintah Kabupaten Kuningan sebesar Rp200 juta. Kini, jalan menuju desa Sakerta Timur telah mulus termasuk infrastruktur yang digunakan untuk bersepeda mengelilingi waduk Darma.\n",
            "\n",
            "Keberadaan desa wisata Sakerta Timur melengkapi Desa Wisata Cibuntu di Kabupaten Kuningan yang sebelumnya telah meraih beragam penghargaan hingga tingkat asia. (OL-13)\n",
            "\n",
            "Baca Juga: Menteri Sandiaga Dorong Desa Detusoko Jadi Desa Kreatif demi Ekonomi Bangkit\n"
          ]
        }
      ]
    },
    {
      "cell_type": "code",
      "source": [
        "print(article.summary)"
      ],
      "metadata": {
        "colab": {
          "base_uri": "https://localhost:8080/"
        },
        "id": "JZzyADV_decP",
        "outputId": "b0420dfb-21ea-4639-8c71-f29cb28c22ef"
      },
      "execution_count": 16,
      "outputs": [
        {
          "output_type": "stream",
          "name": "stdout",
          "text": [
            "DESA Sakerta Timur, Kecamatan Darma, Kabupaten Kuningan, Jawa Barat bersiap menjadi desa wisata.\n",
            "Kepala Desa Sakerta Timur, Cucu Sudrajat, menjelaskan warga desanya bersiap untuk menjadi desa wisata di Kabupaten Kuningan.\n",
            "\"Sebelumnya sudah ada komitmen dan deklarasi dari seluruh warga desa untuk menjadikan desa kami sebagai desa wisata pada 2017 lalu,\" tutur Cucu, Kamis (30/12).\n",
            "\"Inti dari desa wisata itu bagaimana memberdayakan masyarakat desa,\" tutur Cucu.\n",
            "Keberadaan desa wisata Sakerta Timur melengkapi Desa Wisata Cibuntu di Kabupaten Kuningan yang sebelumnya telah meraih beragam penghargaan hingga tingkat asia.\n"
          ]
        }
      ]
    }
  ],
  "metadata": {
    "colab": {
      "name": "Article Scraping",
      "provenance": [],
      "authorship_tag": "ABX9TyOtcx5PaBjl6Zw2yVRHqOC7",
      "include_colab_link": true
    },
    "kernelspec": {
      "display_name": "Python 3",
      "name": "python3"
    },
    "language_info": {
      "name": "python"
    }
  },
  "nbformat": 4,
  "nbformat_minor": 0
}